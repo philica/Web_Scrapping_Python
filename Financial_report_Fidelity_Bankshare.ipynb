{
 "cells": [
  {
   "cell_type": "code",
   "execution_count": 38,
   "metadata": {},
   "outputs": [
    {
     "name": "stdout",
     "output_type": "stream",
     "text": [
      "https://www.sec.gov/Archives/edgar/data/0001028336//index.json\n"
     ]
    },
    {
     "data": {
      "text/plain": [
       "{'directory': {'item': [{'last-modified': '2007-02-14 16:13:58',\n",
       "    'name': '0000897226-07-000136-index-headers.html',\n",
       "    'type': 'text.gif',\n",
       "    'size': ''},\n",
       "   {'last-modified': '2007-02-14 16:13:58',\n",
       "    'name': '0000897226-07-000136-index.html',\n",
       "    'type': 'text.gif',\n",
       "    'size': ''},\n",
       "   {'last-modified': '2007-02-14 16:13:58',\n",
       "    'name': '0000897226-07-000136.txt',\n",
       "    'type': 'text.gif',\n",
       "    'size': ''},\n",
       "   {'last-modified': '2007-02-14 16:13:58',\n",
       "    'name': 'fffl.txt',\n",
       "    'type': '',\n",
       "    'size': '3373'}],\n",
       "  'name': '/Archives/edgar/data/1028336/000089722607000136',\n",
       "  'parent-dir': '/Archives/edgar/data/1028336'}}"
      ]
     },
     "execution_count": 38,
     "metadata": {},
     "output_type": "execute_result"
    }
   ],
   "source": [
    "import requests\n",
    "from bs4 import BeautifulSoup\n",
    "\n",
    "base_url = r\"https://www.sec.gov/Archives/edgar/data\"\n",
    "\n",
    "# defining CIK number of Fidelity bank located in Virginia \n",
    "# Fudelity bank base url = https://www.sec.gov/Archives/edgar/data/0001028336/\n",
    "\n",
    "cik_number=\"/0001028336/\"\n",
    "\n",
    "# now let's create filings url\n",
    "filings_url = base_url + cik_number + \"/index.json\"\n",
    "print(filings_url)\n",
    "\n",
    "#requesting url\n",
    "headers = {'user-agent': 'sample text'}\n",
    "content = requests.get(filings_url,headers=headers)\n",
    "decoded_content = content.json()\n",
    "\n",
    "# create a single filing url \n",
    "filing_number = decoded_content['directory']['item'][0]['name']\n",
    "filing_url = base_url + cik_number + filing_number + \"/index.json\"\n",
    "filing_url\n",
    "\n",
    "#requesting url\n",
    "document = requests.get(filing_url,headers=headers)\n",
    "decoded_document = document.json()\n",
    "decoded_document"
   ]
  },
  {
   "cell_type": "code",
   "execution_count": 41,
   "metadata": {},
   "outputs": [
    {
     "name": "stdout",
     "output_type": "stream",
     "text": [
      "https://www.sec.gov/Archives/edgar/data/0001028336/000089722607000136/0000897226-07-000136-index-headers.html\n",
      "https://www.sec.gov/Archives/edgar/data/0001028336/000089722607000136/0000897226-07-000136-index.html\n",
      "https://www.sec.gov/Archives/edgar/data/0001028336/000089722607000136/0000897226-07-000136.txt\n",
      "https://www.sec.gov/Archives/edgar/data/0001028336/000089722607000136/fffl.txt\n"
     ]
    }
   ],
   "source": [
    "#different filings on the given url\n",
    "for document in decoded_document['directory']['item']:\n",
    "    document_url = base_url + cik_number + filing_number + \"/\" + document['name'] \n",
    "    print(document_url)"
   ]
  },
  {
   "cell_type": "code",
   "execution_count": 21,
   "metadata": {},
   "outputs": [
    {
     "data": {
      "text/plain": [
       "<Response [200]>"
      ]
     },
     "execution_count": 21,
     "metadata": {},
     "output_type": "execute_result"
    }
   ],
   "source": [
    "#Extracting financial data of Fidelity Bank from Edgar\n",
    "import requests\n",
    "headers = {'user-agent': 'sample text'}\n",
    "url = \"https://www.sec.gov/Archives/edgar/data/0001028336/000094337406001402/form10q_sept2006.txt\" \n",
    "financial_report = requests.get(url,headers=headers)\n",
    "financial_report = "
   ]
  }
 ],
 "metadata": {
  "interpreter": {
   "hash": "916dbcbb3f70747c44a77c7bcd40155683ae19c65e1c03b4aa3499c5328201f1"
  },
  "kernelspec": {
   "display_name": "Python 3.8.10 64-bit",
   "language": "python",
   "name": "python3"
  },
  "language_info": {
   "codemirror_mode": {
    "name": "ipython",
    "version": 3
   },
   "file_extension": ".py",
   "mimetype": "text/x-python",
   "name": "python",
   "nbconvert_exporter": "python",
   "pygments_lexer": "ipython3",
   "version": "3.8.10"
  },
  "orig_nbformat": 4
 },
 "nbformat": 4,
 "nbformat_minor": 2
}
